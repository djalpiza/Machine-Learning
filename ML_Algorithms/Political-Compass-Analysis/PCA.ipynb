{
 "cells": [
  {
   "cell_type": "code",
   "execution_count": 1,
   "id": "41372a7c",
   "metadata": {},
   "outputs": [],
   "source": [
    "import pandas as pd\n",
    "import pandas as pd\n",
    "from sklearn.preprocessing import OneHotEncoder\n",
    "from sklearn.decomposition import PCA\n",
    "import matplotlib.pyplot as plt\n",
    "\n",
    "df = pd.read_csv('questionnaire-data.csv')"
   ]
  },
  {
   "cell_type": "code",
   "execution_count": 2,
   "id": "3c7c3d71",
   "metadata": {},
   "outputs": [
    {
     "data": {
      "text/plain": "      Partei: Nr. Partei: Kurzbezeichnung  \\\n0               1               CDU / CSU   \n1               2                     SPD   \n2               3                     AfD   \n3               4                     FDP   \n4               5               DIE LINKE   \n...           ...                     ...   \n1439           34                     LfK   \n1440           35                     SSW   \n1441           36         Team Todenhöfer   \n1442           37             UNABHÄNGIGE   \n1443           38                    Volt   \n\n                                           Partei: Name  These: Nr.  \\\n0     Christlich Demokratische Union Deutschlands / ...           1   \n1               Sozialdemokratische Partei Deutschlands           1   \n2                           Alternative für Deutschland           1   \n3                            Freie Demokratische Partei           1   \n4                                             DIE LINKE           1   \n...                                                 ...         ...   \n1439    >> Partei für Kinder, Jugendliche und Familien           38   \n1440                    Südschleswigscher Wählerverband          38   \n1441         Team Todenhöfer – Die Gerechtigkeitspartei          38   \n1442              UNABHÄNGIGE für bürgernahe Demokratie          38   \n1443                                   Volt Deutschland          38   \n\n                   These: Titel  \\\n0     Tempolimit auf Autobahnen   \n1     Tempolimit auf Autobahnen   \n2     Tempolimit auf Autobahnen   \n3     Tempolimit auf Autobahnen   \n4     Tempolimit auf Autobahnen   \n...                         ...   \n1439                 Homeoffice   \n1440                 Homeoffice   \n1441                 Homeoffice   \n1442                 Homeoffice   \n1443                 Homeoffice   \n\n                                           These: These Position: Position  \\\n0     Auf allen Autobahnen soll ein generelles Tempo...    stimme nicht zu   \n1     Auf allen Autobahnen soll ein generelles Tempo...          stimme zu   \n2     Auf allen Autobahnen soll ein generelles Tempo...    stimme nicht zu   \n3     Auf allen Autobahnen soll ein generelles Tempo...    stimme nicht zu   \n4     Auf allen Autobahnen soll ein generelles Tempo...          stimme zu   \n...                                                 ...                ...   \n1439  Unternehmen sollen selbst entscheiden, ob sie ...    stimme nicht zu   \n1440  Unternehmen sollen selbst entscheiden, ob sie ...          stimme zu   \n1441  Unternehmen sollen selbst entscheiden, ob sie ...          stimme zu   \n1442  Unternehmen sollen selbst entscheiden, ob sie ...            neutral   \n1443  Unternehmen sollen selbst entscheiden, ob sie ...          stimme zu   \n\n                                   Position: Begründung  \n0     Wir lehnen ein generelles Tempolimit auf Autob...  \n1     Ein Tempolimit von 130 km/h auf Bundesautobahn...  \n2     Die AfD lehnt ein generelles Tempolimit auf Bu...  \n3     Ein generelles Tempolimit auf Autobahnen führt...  \n4     Deutschland ist das einzige Land in Europa und...  \n...                                                 ...  \n1439  Während einer Pandemie sollten für alle Bevölk...  \n1440  Das Arbeiten im Homeoffice hat sich während de...  \n1441  Unternehmen wissen selbst am besten, wo ihre M...  \n1442  In Ausnahmefällen muss der Staat eingreifen kö...  \n1443  Sollten Arbeitnehmende gerne ortsunabhängig ar...  \n\n[1444 rows x 8 columns]",
      "text/html": "<div>\n<style scoped>\n    .dataframe tbody tr th:only-of-type {\n        vertical-align: middle;\n    }\n\n    .dataframe tbody tr th {\n        vertical-align: top;\n    }\n\n    .dataframe thead th {\n        text-align: right;\n    }\n</style>\n<table border=\"1\" class=\"dataframe\">\n  <thead>\n    <tr style=\"text-align: right;\">\n      <th></th>\n      <th>Partei: Nr.</th>\n      <th>Partei: Kurzbezeichnung</th>\n      <th>Partei: Name</th>\n      <th>These: Nr.</th>\n      <th>These: Titel</th>\n      <th>These: These</th>\n      <th>Position: Position</th>\n      <th>Position: Begründung</th>\n    </tr>\n  </thead>\n  <tbody>\n    <tr>\n      <th>0</th>\n      <td>1</td>\n      <td>CDU / CSU</td>\n      <td>Christlich Demokratische Union Deutschlands / ...</td>\n      <td>1</td>\n      <td>Tempolimit auf Autobahnen</td>\n      <td>Auf allen Autobahnen soll ein generelles Tempo...</td>\n      <td>stimme nicht zu</td>\n      <td>Wir lehnen ein generelles Tempolimit auf Autob...</td>\n    </tr>\n    <tr>\n      <th>1</th>\n      <td>2</td>\n      <td>SPD</td>\n      <td>Sozialdemokratische Partei Deutschlands</td>\n      <td>1</td>\n      <td>Tempolimit auf Autobahnen</td>\n      <td>Auf allen Autobahnen soll ein generelles Tempo...</td>\n      <td>stimme zu</td>\n      <td>Ein Tempolimit von 130 km/h auf Bundesautobahn...</td>\n    </tr>\n    <tr>\n      <th>2</th>\n      <td>3</td>\n      <td>AfD</td>\n      <td>Alternative für Deutschland</td>\n      <td>1</td>\n      <td>Tempolimit auf Autobahnen</td>\n      <td>Auf allen Autobahnen soll ein generelles Tempo...</td>\n      <td>stimme nicht zu</td>\n      <td>Die AfD lehnt ein generelles Tempolimit auf Bu...</td>\n    </tr>\n    <tr>\n      <th>3</th>\n      <td>4</td>\n      <td>FDP</td>\n      <td>Freie Demokratische Partei</td>\n      <td>1</td>\n      <td>Tempolimit auf Autobahnen</td>\n      <td>Auf allen Autobahnen soll ein generelles Tempo...</td>\n      <td>stimme nicht zu</td>\n      <td>Ein generelles Tempolimit auf Autobahnen führt...</td>\n    </tr>\n    <tr>\n      <th>4</th>\n      <td>5</td>\n      <td>DIE LINKE</td>\n      <td>DIE LINKE</td>\n      <td>1</td>\n      <td>Tempolimit auf Autobahnen</td>\n      <td>Auf allen Autobahnen soll ein generelles Tempo...</td>\n      <td>stimme zu</td>\n      <td>Deutschland ist das einzige Land in Europa und...</td>\n    </tr>\n    <tr>\n      <th>...</th>\n      <td>...</td>\n      <td>...</td>\n      <td>...</td>\n      <td>...</td>\n      <td>...</td>\n      <td>...</td>\n      <td>...</td>\n      <td>...</td>\n    </tr>\n    <tr>\n      <th>1439</th>\n      <td>34</td>\n      <td>LfK</td>\n      <td>&gt;&gt; Partei für Kinder, Jugendliche und Familien</td>\n      <td>38</td>\n      <td>Homeoffice</td>\n      <td>Unternehmen sollen selbst entscheiden, ob sie ...</td>\n      <td>stimme nicht zu</td>\n      <td>Während einer Pandemie sollten für alle Bevölk...</td>\n    </tr>\n    <tr>\n      <th>1440</th>\n      <td>35</td>\n      <td>SSW</td>\n      <td>Südschleswigscher Wählerverband</td>\n      <td>38</td>\n      <td>Homeoffice</td>\n      <td>Unternehmen sollen selbst entscheiden, ob sie ...</td>\n      <td>stimme zu</td>\n      <td>Das Arbeiten im Homeoffice hat sich während de...</td>\n    </tr>\n    <tr>\n      <th>1441</th>\n      <td>36</td>\n      <td>Team Todenhöfer</td>\n      <td>Team Todenhöfer – Die Gerechtigkeitspartei</td>\n      <td>38</td>\n      <td>Homeoffice</td>\n      <td>Unternehmen sollen selbst entscheiden, ob sie ...</td>\n      <td>stimme zu</td>\n      <td>Unternehmen wissen selbst am besten, wo ihre M...</td>\n    </tr>\n    <tr>\n      <th>1442</th>\n      <td>37</td>\n      <td>UNABHÄNGIGE</td>\n      <td>UNABHÄNGIGE für bürgernahe Demokratie</td>\n      <td>38</td>\n      <td>Homeoffice</td>\n      <td>Unternehmen sollen selbst entscheiden, ob sie ...</td>\n      <td>neutral</td>\n      <td>In Ausnahmefällen muss der Staat eingreifen kö...</td>\n    </tr>\n    <tr>\n      <th>1443</th>\n      <td>38</td>\n      <td>Volt</td>\n      <td>Volt Deutschland</td>\n      <td>38</td>\n      <td>Homeoffice</td>\n      <td>Unternehmen sollen selbst entscheiden, ob sie ...</td>\n      <td>stimme zu</td>\n      <td>Sollten Arbeitnehmende gerne ortsunabhängig ar...</td>\n    </tr>\n  </tbody>\n</table>\n<p>1444 rows × 8 columns</p>\n</div>"
     },
     "execution_count": 2,
     "metadata": {},
     "output_type": "execute_result"
    }
   ],
   "source": [
    "df"
   ]
  },
  {
   "cell_type": "code",
   "execution_count": 3,
   "id": "d3efaa4e",
   "metadata": {},
   "outputs": [],
   "source": [
    "# Define the mapping of the values in the \"Position: Position\" column to numerical values\n",
    "position_map = {\"stimme nicht zu\": -1, \"neutral\": 0, \"stimme zu\": 1}\n",
    "\n",
    "# Use the map function to apply the mapping to the \"Position: Position\" column\n",
    "df[\"Position: Position\"] = df[\"Position: Position\"].map(position_map)\n"
   ]
  },
  {
   "cell_type": "code",
   "execution_count": 4,
   "id": "24c94c84",
   "metadata": {},
   "outputs": [
    {
     "data": {
      "text/plain": "      Partei: Nr. Partei: Kurzbezeichnung  \\\n0               1               CDU / CSU   \n1               2                     SPD   \n2               3                     AfD   \n3               4                     FDP   \n4               5               DIE LINKE   \n...           ...                     ...   \n1439           34                     LfK   \n1440           35                     SSW   \n1441           36         Team Todenhöfer   \n1442           37             UNABHÄNGIGE   \n1443           38                    Volt   \n\n                                           Partei: Name  These: Nr.  \\\n0     Christlich Demokratische Union Deutschlands / ...           1   \n1               Sozialdemokratische Partei Deutschlands           1   \n2                           Alternative für Deutschland           1   \n3                            Freie Demokratische Partei           1   \n4                                             DIE LINKE           1   \n...                                                 ...         ...   \n1439    >> Partei für Kinder, Jugendliche und Familien           38   \n1440                    Südschleswigscher Wählerverband          38   \n1441         Team Todenhöfer – Die Gerechtigkeitspartei          38   \n1442              UNABHÄNGIGE für bürgernahe Demokratie          38   \n1443                                   Volt Deutschland          38   \n\n                   These: Titel  \\\n0     Tempolimit auf Autobahnen   \n1     Tempolimit auf Autobahnen   \n2     Tempolimit auf Autobahnen   \n3     Tempolimit auf Autobahnen   \n4     Tempolimit auf Autobahnen   \n...                         ...   \n1439                 Homeoffice   \n1440                 Homeoffice   \n1441                 Homeoffice   \n1442                 Homeoffice   \n1443                 Homeoffice   \n\n                                           These: These  Position: Position  \\\n0     Auf allen Autobahnen soll ein generelles Tempo...                  -1   \n1     Auf allen Autobahnen soll ein generelles Tempo...                   1   \n2     Auf allen Autobahnen soll ein generelles Tempo...                  -1   \n3     Auf allen Autobahnen soll ein generelles Tempo...                  -1   \n4     Auf allen Autobahnen soll ein generelles Tempo...                   1   \n...                                                 ...                 ...   \n1439  Unternehmen sollen selbst entscheiden, ob sie ...                  -1   \n1440  Unternehmen sollen selbst entscheiden, ob sie ...                   1   \n1441  Unternehmen sollen selbst entscheiden, ob sie ...                   1   \n1442  Unternehmen sollen selbst entscheiden, ob sie ...                   0   \n1443  Unternehmen sollen selbst entscheiden, ob sie ...                   1   \n\n                                   Position: Begründung  \n0     Wir lehnen ein generelles Tempolimit auf Autob...  \n1     Ein Tempolimit von 130 km/h auf Bundesautobahn...  \n2     Die AfD lehnt ein generelles Tempolimit auf Bu...  \n3     Ein generelles Tempolimit auf Autobahnen führt...  \n4     Deutschland ist das einzige Land in Europa und...  \n...                                                 ...  \n1439  Während einer Pandemie sollten für alle Bevölk...  \n1440  Das Arbeiten im Homeoffice hat sich während de...  \n1441  Unternehmen wissen selbst am besten, wo ihre M...  \n1442  In Ausnahmefällen muss der Staat eingreifen kö...  \n1443  Sollten Arbeitnehmende gerne ortsunabhängig ar...  \n\n[1444 rows x 8 columns]",
      "text/html": "<div>\n<style scoped>\n    .dataframe tbody tr th:only-of-type {\n        vertical-align: middle;\n    }\n\n    .dataframe tbody tr th {\n        vertical-align: top;\n    }\n\n    .dataframe thead th {\n        text-align: right;\n    }\n</style>\n<table border=\"1\" class=\"dataframe\">\n  <thead>\n    <tr style=\"text-align: right;\">\n      <th></th>\n      <th>Partei: Nr.</th>\n      <th>Partei: Kurzbezeichnung</th>\n      <th>Partei: Name</th>\n      <th>These: Nr.</th>\n      <th>These: Titel</th>\n      <th>These: These</th>\n      <th>Position: Position</th>\n      <th>Position: Begründung</th>\n    </tr>\n  </thead>\n  <tbody>\n    <tr>\n      <th>0</th>\n      <td>1</td>\n      <td>CDU / CSU</td>\n      <td>Christlich Demokratische Union Deutschlands / ...</td>\n      <td>1</td>\n      <td>Tempolimit auf Autobahnen</td>\n      <td>Auf allen Autobahnen soll ein generelles Tempo...</td>\n      <td>-1</td>\n      <td>Wir lehnen ein generelles Tempolimit auf Autob...</td>\n    </tr>\n    <tr>\n      <th>1</th>\n      <td>2</td>\n      <td>SPD</td>\n      <td>Sozialdemokratische Partei Deutschlands</td>\n      <td>1</td>\n      <td>Tempolimit auf Autobahnen</td>\n      <td>Auf allen Autobahnen soll ein generelles Tempo...</td>\n      <td>1</td>\n      <td>Ein Tempolimit von 130 km/h auf Bundesautobahn...</td>\n    </tr>\n    <tr>\n      <th>2</th>\n      <td>3</td>\n      <td>AfD</td>\n      <td>Alternative für Deutschland</td>\n      <td>1</td>\n      <td>Tempolimit auf Autobahnen</td>\n      <td>Auf allen Autobahnen soll ein generelles Tempo...</td>\n      <td>-1</td>\n      <td>Die AfD lehnt ein generelles Tempolimit auf Bu...</td>\n    </tr>\n    <tr>\n      <th>3</th>\n      <td>4</td>\n      <td>FDP</td>\n      <td>Freie Demokratische Partei</td>\n      <td>1</td>\n      <td>Tempolimit auf Autobahnen</td>\n      <td>Auf allen Autobahnen soll ein generelles Tempo...</td>\n      <td>-1</td>\n      <td>Ein generelles Tempolimit auf Autobahnen führt...</td>\n    </tr>\n    <tr>\n      <th>4</th>\n      <td>5</td>\n      <td>DIE LINKE</td>\n      <td>DIE LINKE</td>\n      <td>1</td>\n      <td>Tempolimit auf Autobahnen</td>\n      <td>Auf allen Autobahnen soll ein generelles Tempo...</td>\n      <td>1</td>\n      <td>Deutschland ist das einzige Land in Europa und...</td>\n    </tr>\n    <tr>\n      <th>...</th>\n      <td>...</td>\n      <td>...</td>\n      <td>...</td>\n      <td>...</td>\n      <td>...</td>\n      <td>...</td>\n      <td>...</td>\n      <td>...</td>\n    </tr>\n    <tr>\n      <th>1439</th>\n      <td>34</td>\n      <td>LfK</td>\n      <td>&gt;&gt; Partei für Kinder, Jugendliche und Familien</td>\n      <td>38</td>\n      <td>Homeoffice</td>\n      <td>Unternehmen sollen selbst entscheiden, ob sie ...</td>\n      <td>-1</td>\n      <td>Während einer Pandemie sollten für alle Bevölk...</td>\n    </tr>\n    <tr>\n      <th>1440</th>\n      <td>35</td>\n      <td>SSW</td>\n      <td>Südschleswigscher Wählerverband</td>\n      <td>38</td>\n      <td>Homeoffice</td>\n      <td>Unternehmen sollen selbst entscheiden, ob sie ...</td>\n      <td>1</td>\n      <td>Das Arbeiten im Homeoffice hat sich während de...</td>\n    </tr>\n    <tr>\n      <th>1441</th>\n      <td>36</td>\n      <td>Team Todenhöfer</td>\n      <td>Team Todenhöfer – Die Gerechtigkeitspartei</td>\n      <td>38</td>\n      <td>Homeoffice</td>\n      <td>Unternehmen sollen selbst entscheiden, ob sie ...</td>\n      <td>1</td>\n      <td>Unternehmen wissen selbst am besten, wo ihre M...</td>\n    </tr>\n    <tr>\n      <th>1442</th>\n      <td>37</td>\n      <td>UNABHÄNGIGE</td>\n      <td>UNABHÄNGIGE für bürgernahe Demokratie</td>\n      <td>38</td>\n      <td>Homeoffice</td>\n      <td>Unternehmen sollen selbst entscheiden, ob sie ...</td>\n      <td>0</td>\n      <td>In Ausnahmefällen muss der Staat eingreifen kö...</td>\n    </tr>\n    <tr>\n      <th>1443</th>\n      <td>38</td>\n      <td>Volt</td>\n      <td>Volt Deutschland</td>\n      <td>38</td>\n      <td>Homeoffice</td>\n      <td>Unternehmen sollen selbst entscheiden, ob sie ...</td>\n      <td>1</td>\n      <td>Sollten Arbeitnehmende gerne ortsunabhängig ar...</td>\n    </tr>\n  </tbody>\n</table>\n<p>1444 rows × 8 columns</p>\n</div>"
     },
     "execution_count": 4,
     "metadata": {},
     "output_type": "execute_result"
    }
   ],
   "source": [
    "df"
   ]
  },
  {
   "cell_type": "code",
   "execution_count": 5,
   "id": "13f89951",
   "metadata": {},
   "outputs": [],
   "source": [
    "# Define the major parties represented in the German Parliament\n",
    "major_parties = [\"CDU\", \"CSU\", \"SPD\", \"FDP\", \"GRÜNE\", \"DIE LINKE\"]\n",
    "\n",
    "# Create a boolean mask indicating whether each row belongs to a major party or not\n",
    "is_major_party = df[\"Partei: Kurzbezeichnung\"].isin(major_parties)\n",
    "\n",
    "# Extract the answers from the major parties\n",
    "subset_major_parties = df[is_major_party]\n",
    "\n",
    "# Extract the answers from all the parties\n",
    "subset_all_parties = df[~is_major_party]"
   ]
  },
  {
   "cell_type": "code",
   "execution_count": 6,
   "id": "1fdf9afd",
   "metadata": {},
   "outputs": [
    {
     "data": {
      "text/plain": "      Partei: Nr. Partei: Kurzbezeichnung  \\\n1               2                     SPD   \n3               4                     FDP   \n4               5               DIE LINKE   \n5               6                   GRÜNE   \n39              2                     SPD   \n...           ...                     ...   \n1373            6                   GRÜNE   \n1407            2                     SPD   \n1409            4                     FDP   \n1410            5               DIE LINKE   \n1411            6                   GRÜNE   \n\n                                 Partei: Name  These: Nr.  \\\n1     Sozialdemokratische Partei Deutschlands           1   \n3                  Freie Demokratische Partei           1   \n4                                   DIE LINKE           1   \n5                       BÜNDNIS 90/DIE GRÜNEN           1   \n39    Sozialdemokratische Partei Deutschlands           2   \n...                                       ...         ...   \n1373                    BÜNDNIS 90/DIE GRÜNEN          37   \n1407  Sozialdemokratische Partei Deutschlands          38   \n1409               Freie Demokratische Partei          38   \n1410                                DIE LINKE          38   \n1411                    BÜNDNIS 90/DIE GRÜNEN          38   \n\n                            These: Titel  \\\n1              Tempolimit auf Autobahnen   \n3              Tempolimit auf Autobahnen   \n4              Tempolimit auf Autobahnen   \n5              Tempolimit auf Autobahnen   \n39    Erhöhung der Verteidigungsausgaben   \n...                                  ...   \n1373        Besteuerung des Flugverkehrs   \n1407                          Homeoffice   \n1409                          Homeoffice   \n1410                          Homeoffice   \n1411                          Homeoffice   \n\n                                           These: These  Position: Position  \\\n1     Auf allen Autobahnen soll ein generelles Tempo...                   1   \n3     Auf allen Autobahnen soll ein generelles Tempo...                  -1   \n4     Auf allen Autobahnen soll ein generelles Tempo...                   1   \n5     Auf allen Autobahnen soll ein generelles Tempo...                   1   \n39    Deutschland soll seine Verteidigungsausgaben e...                   1   \n...                                                 ...                 ...   \n1373       Der Flugverkehr soll höher besteuert werden.                   1   \n1407  Unternehmen sollen selbst entscheiden, ob sie ...                  -1   \n1409  Unternehmen sollen selbst entscheiden, ob sie ...                   0   \n1410  Unternehmen sollen selbst entscheiden, ob sie ...                  -1   \n1411  Unternehmen sollen selbst entscheiden, ob sie ...                  -1   \n\n                                   Position: Begründung  \n1     Ein Tempolimit von 130 km/h auf Bundesautobahn...  \n3     Ein generelles Tempolimit auf Autobahnen führt...  \n4     Deutschland ist das einzige Land in Europa und...  \n5     Um die Anzahl schwerer Unfälle zu vermindern u...  \n39    Zur Sicherung des Friedens und der Verteidigun...  \n...                                                 ...  \n1373  Obwohl Fliegen eine der klimaschädlichsten Ver...  \n1407  Die SPD wird einen Rechtsanspruch auf mobile A...  \n1409  Wir wollen mobiles Arbeiten und Homeoffice nac...  \n1410  Alle Beschäftigten sollen durch ein Recht auf ...  \n1411  Den Ort der eigenen Arbeit selbst zu bestimmen...  \n\n[152 rows x 8 columns]",
      "text/html": "<div>\n<style scoped>\n    .dataframe tbody tr th:only-of-type {\n        vertical-align: middle;\n    }\n\n    .dataframe tbody tr th {\n        vertical-align: top;\n    }\n\n    .dataframe thead th {\n        text-align: right;\n    }\n</style>\n<table border=\"1\" class=\"dataframe\">\n  <thead>\n    <tr style=\"text-align: right;\">\n      <th></th>\n      <th>Partei: Nr.</th>\n      <th>Partei: Kurzbezeichnung</th>\n      <th>Partei: Name</th>\n      <th>These: Nr.</th>\n      <th>These: Titel</th>\n      <th>These: These</th>\n      <th>Position: Position</th>\n      <th>Position: Begründung</th>\n    </tr>\n  </thead>\n  <tbody>\n    <tr>\n      <th>1</th>\n      <td>2</td>\n      <td>SPD</td>\n      <td>Sozialdemokratische Partei Deutschlands</td>\n      <td>1</td>\n      <td>Tempolimit auf Autobahnen</td>\n      <td>Auf allen Autobahnen soll ein generelles Tempo...</td>\n      <td>1</td>\n      <td>Ein Tempolimit von 130 km/h auf Bundesautobahn...</td>\n    </tr>\n    <tr>\n      <th>3</th>\n      <td>4</td>\n      <td>FDP</td>\n      <td>Freie Demokratische Partei</td>\n      <td>1</td>\n      <td>Tempolimit auf Autobahnen</td>\n      <td>Auf allen Autobahnen soll ein generelles Tempo...</td>\n      <td>-1</td>\n      <td>Ein generelles Tempolimit auf Autobahnen führt...</td>\n    </tr>\n    <tr>\n      <th>4</th>\n      <td>5</td>\n      <td>DIE LINKE</td>\n      <td>DIE LINKE</td>\n      <td>1</td>\n      <td>Tempolimit auf Autobahnen</td>\n      <td>Auf allen Autobahnen soll ein generelles Tempo...</td>\n      <td>1</td>\n      <td>Deutschland ist das einzige Land in Europa und...</td>\n    </tr>\n    <tr>\n      <th>5</th>\n      <td>6</td>\n      <td>GRÜNE</td>\n      <td>BÜNDNIS 90/DIE GRÜNEN</td>\n      <td>1</td>\n      <td>Tempolimit auf Autobahnen</td>\n      <td>Auf allen Autobahnen soll ein generelles Tempo...</td>\n      <td>1</td>\n      <td>Um die Anzahl schwerer Unfälle zu vermindern u...</td>\n    </tr>\n    <tr>\n      <th>39</th>\n      <td>2</td>\n      <td>SPD</td>\n      <td>Sozialdemokratische Partei Deutschlands</td>\n      <td>2</td>\n      <td>Erhöhung der Verteidigungsausgaben</td>\n      <td>Deutschland soll seine Verteidigungsausgaben e...</td>\n      <td>1</td>\n      <td>Zur Sicherung des Friedens und der Verteidigun...</td>\n    </tr>\n    <tr>\n      <th>...</th>\n      <td>...</td>\n      <td>...</td>\n      <td>...</td>\n      <td>...</td>\n      <td>...</td>\n      <td>...</td>\n      <td>...</td>\n      <td>...</td>\n    </tr>\n    <tr>\n      <th>1373</th>\n      <td>6</td>\n      <td>GRÜNE</td>\n      <td>BÜNDNIS 90/DIE GRÜNEN</td>\n      <td>37</td>\n      <td>Besteuerung des Flugverkehrs</td>\n      <td>Der Flugverkehr soll höher besteuert werden.</td>\n      <td>1</td>\n      <td>Obwohl Fliegen eine der klimaschädlichsten Ver...</td>\n    </tr>\n    <tr>\n      <th>1407</th>\n      <td>2</td>\n      <td>SPD</td>\n      <td>Sozialdemokratische Partei Deutschlands</td>\n      <td>38</td>\n      <td>Homeoffice</td>\n      <td>Unternehmen sollen selbst entscheiden, ob sie ...</td>\n      <td>-1</td>\n      <td>Die SPD wird einen Rechtsanspruch auf mobile A...</td>\n    </tr>\n    <tr>\n      <th>1409</th>\n      <td>4</td>\n      <td>FDP</td>\n      <td>Freie Demokratische Partei</td>\n      <td>38</td>\n      <td>Homeoffice</td>\n      <td>Unternehmen sollen selbst entscheiden, ob sie ...</td>\n      <td>0</td>\n      <td>Wir wollen mobiles Arbeiten und Homeoffice nac...</td>\n    </tr>\n    <tr>\n      <th>1410</th>\n      <td>5</td>\n      <td>DIE LINKE</td>\n      <td>DIE LINKE</td>\n      <td>38</td>\n      <td>Homeoffice</td>\n      <td>Unternehmen sollen selbst entscheiden, ob sie ...</td>\n      <td>-1</td>\n      <td>Alle Beschäftigten sollen durch ein Recht auf ...</td>\n    </tr>\n    <tr>\n      <th>1411</th>\n      <td>6</td>\n      <td>GRÜNE</td>\n      <td>BÜNDNIS 90/DIE GRÜNEN</td>\n      <td>38</td>\n      <td>Homeoffice</td>\n      <td>Unternehmen sollen selbst entscheiden, ob sie ...</td>\n      <td>-1</td>\n      <td>Den Ort der eigenen Arbeit selbst zu bestimmen...</td>\n    </tr>\n  </tbody>\n</table>\n<p>152 rows × 8 columns</p>\n</div>"
     },
     "execution_count": 6,
     "metadata": {},
     "output_type": "execute_result"
    }
   ],
   "source": [
    "subset_major_parties"
   ]
  },
  {
   "cell_type": "code",
   "execution_count": 7,
   "id": "bd85d5eb",
   "metadata": {},
   "outputs": [],
   "source": [
    "# Group the answers by party in the subset of major parties\n",
    "grouped_major_parties = subset_major_parties.groupby(\"Partei: Kurzbezeichnung\")\n",
    "\n",
    "# Calculate the mean answer for each party in the subset of major parties\n",
    "mean_answers_major_parties = grouped_major_parties[\"Position: Position\"].mean()\n",
    "\n",
    "# Group the answers by party in the subset of all parties\n",
    "grouped_all_parties = subset_all_parties.groupby(\"Partei: Kurzbezeichnung\")\n",
    "\n",
    "# Calculate the mean answer for each party in the subset of all parties\n",
    "mean_answers_all_parties = grouped_all_parties[\"Position: Position\"].mean()"
   ]
  },
  {
   "cell_type": "code",
   "execution_count": 11,
   "id": "fc911311",
   "metadata": {},
   "outputs": [
    {
     "data": {
      "text/plain": "<bound method GroupBy.head of <pandas.core.groupby.generic.DataFrameGroupBy object at 0x000001F2639A86D0>>"
     },
     "execution_count": 11,
     "metadata": {},
     "output_type": "execute_result"
    }
   ],
   "source": [
    "grouped_major_parties.head"
   ]
  },
  {
   "cell_type": "code",
   "execution_count": 13,
   "id": "c44458f1",
   "metadata": {},
   "outputs": [
    {
     "ename": "AttributeError",
     "evalue": "'DataFrameGroupBy' object has no attribute 'shape'",
     "output_type": "error",
     "traceback": [
      "\u001B[1;31m---------------------------------------------------------------------------\u001B[0m",
      "\u001B[1;31mAttributeError\u001B[0m                            Traceback (most recent call last)",
      "Input \u001B[1;32mIn [13]\u001B[0m, in \u001B[0;36m<cell line: 1>\u001B[1;34m()\u001B[0m\n\u001B[1;32m----> 1\u001B[0m num_rows, num_columns \u001B[38;5;241m=\u001B[39m \u001B[43mgrouped_major_parties\u001B[49m\u001B[38;5;241;43m.\u001B[39;49m\u001B[43mshape\u001B[49m\n\u001B[0;32m      2\u001B[0m \u001B[38;5;28mprint\u001B[39m(\u001B[38;5;124m\"\u001B[39m\u001B[38;5;124mAnswers from major parties shape:\u001B[39m\u001B[38;5;124m\"\u001B[39m, num_rows, num_columns)\n",
      "File \u001B[1;32m~\\anaconda3\\lib\\site-packages\\pandas\\core\\groupby\\groupby.py:904\u001B[0m, in \u001B[0;36mGroupBy.__getattr__\u001B[1;34m(self, attr)\u001B[0m\n\u001B[0;32m    901\u001B[0m \u001B[38;5;28;01mif\u001B[39;00m attr \u001B[38;5;129;01min\u001B[39;00m \u001B[38;5;28mself\u001B[39m\u001B[38;5;241m.\u001B[39mobj:\n\u001B[0;32m    902\u001B[0m     \u001B[38;5;28;01mreturn\u001B[39;00m \u001B[38;5;28mself\u001B[39m[attr]\n\u001B[1;32m--> 904\u001B[0m \u001B[38;5;28;01mraise\u001B[39;00m \u001B[38;5;167;01mAttributeError\u001B[39;00m(\n\u001B[0;32m    905\u001B[0m     \u001B[38;5;124mf\u001B[39m\u001B[38;5;124m\"\u001B[39m\u001B[38;5;124m'\u001B[39m\u001B[38;5;132;01m{\u001B[39;00m\u001B[38;5;28mtype\u001B[39m(\u001B[38;5;28mself\u001B[39m)\u001B[38;5;241m.\u001B[39m\u001B[38;5;18m__name__\u001B[39m\u001B[38;5;132;01m}\u001B[39;00m\u001B[38;5;124m'\u001B[39m\u001B[38;5;124m object has no attribute \u001B[39m\u001B[38;5;124m'\u001B[39m\u001B[38;5;132;01m{\u001B[39;00mattr\u001B[38;5;132;01m}\u001B[39;00m\u001B[38;5;124m'\u001B[39m\u001B[38;5;124m\"\u001B[39m\n\u001B[0;32m    906\u001B[0m )\n",
      "\u001B[1;31mAttributeError\u001B[0m: 'DataFrameGroupBy' object has no attribute 'shape'"
     ]
    }
   ],
   "source": [
    "num_rows, num_columns = subset_major_parties.shape\n",
    "print(\"Answers from major parties shape:\", num_rows, num_columns)"
   ]
  },
  {
   "cell_type": "code",
   "execution_count": 11,
   "id": "04b29221",
   "metadata": {},
   "outputs": [
    {
     "name": "stdout",
     "output_type": "stream",
     "text": [
      "Answers from all parties shape: 1254 8\n"
     ]
    }
   ],
   "source": [
    "num_rows, num_columns = subset_all_parties.shape\n",
    "print(\"Answers from all parties shape:\", num_rows, num_columns)"
   ]
  },
  {
   "cell_type": "code",
   "execution_count": null,
   "id": "50f10433",
   "metadata": {},
   "outputs": [],
   "source": []
  }
 ],
 "metadata": {
  "kernelspec": {
   "display_name": "Python 3 (ipykernel)",
   "language": "python",
   "name": "python3"
  },
  "language_info": {
   "codemirror_mode": {
    "name": "ipython",
    "version": 3
   },
   "file_extension": ".py",
   "mimetype": "text/x-python",
   "name": "python",
   "nbconvert_exporter": "python",
   "pygments_lexer": "ipython3",
   "version": "3.9.12"
  }
 },
 "nbformat": 4,
 "nbformat_minor": 5
}
